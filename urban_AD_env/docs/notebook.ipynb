{
 "cells": [
  {
   "cell_type": "markdown",
   "metadata": {},
   "source": [
    "Create a new road with 4 lanes and a few vehicles"
   ]
  },
  {
   "cell_type": "code",
   "execution_count": null,
   "metadata": {},
   "outputs": [
    {
     "name": "stdout",
     "output_type": "stream",
     "text": [
      "[#312: [-15.40251357  12.        ], #984: [-30.80502714   0.        ], #120: [-46.20754071  12.        ]]\n"
     ]
    }
   ],
   "source": [
    "from urban_AD_env.road.road import Road\n",
    "\n",
    "road = Road.create_random_road(lanes_count=4, lane_width=4.0, vehicles_count=3)"
   ]
  },
  {
   "cell_type": "markdown",
   "metadata": {},
   "source": [
    "Step the road state of 1 second"
   ]
  },
  {
   "cell_type": "code",
   "execution_count": 21,
   "metadata": {},
   "outputs": [
    {
     "name": "stdout",
     "output_type": "stream",
     "text": [
      "[#312: [ 8.59748643 12.        ], #984: [-6.80502714  0.        ], #120: [-24.20754071  12.        ]]\n"
     ]
    }
   ],
   "source": [
    "road.step(dt=1.0)\n",
    "print(road)"
   ]
  },
  {
   "cell_type": "markdown",
   "metadata": {},
   "source": [
    "Create a *Simulation* from the created road"
   ]
  },
  {
   "cell_type": "code",
   "execution_count": 22,
   "metadata": {},
   "outputs": [
    {
     "name": "stdout",
     "output_type": "stream",
     "text": [
      "[[[22.5 19.  16.  11.5  8.5  6.   3.5  3.   1.   0. ]\n",
      "  [26.  23.  19.5 16.  12.5  9.5  7.   4.5  2.   0.5]\n",
      "  [28.5 25.5 22.5 19.  15.5 12.   9.   6.   3.   1. ]\n",
      "  [26.  24.5 23.  21.5 18.  14.5  6.5  4.5  3.   1.5]]\n",
      "\n",
      " [[25.5 22.5 19.  16.   7.5 -9.  -9.   0.   3.   1. ]\n",
      "  [28.5 25.5 22.5 19.  15.5 12.   9.   6.5  4.   1.5]\n",
      "  [30.5 27.5 24.5 21.5 18.  14.5 11.   8.   5.   2. ]\n",
      "  [29.  -7.5 -7.5 17.5 20.  16.5 13.   4.5 -7.5 -7.5]]\n",
      "\n",
      " [[28.  20.  -8.  -8.  15.  11.5  8.5  6.   4.   2. ]\n",
      "  [30.  27.  24.  21.  17.5 14.  10.5  7.5  5.   2.5]\n",
      "  [31.5 28.5 25.5 22.5 19.5 16.  12.5  9.   6.   3. ]\n",
      "  [-6.5 -6.5 20.  -6.5 -6.5 17.5 14.  10.5  7.   3.5]]]\n"
     ]
    }
   ],
   "source": [
    "from urban_AD_env.simulation.simulation import Simulation\n",
    "from urban_AD_env.agent.ttc_vi import TTCVIAgent\n",
    "from urban_AD_env.vehicle.control import EGO_Vehicle\n",
    "\n",
    "sim = Simulation(road, ego_vehicle_type=EGO_Vehicle, agent_type=TTCVIAgent)\n",
    "\n",
    "sim.process()\n",
    "sim.quit()"
   ]
  }
 ],
 "metadata": {
  "kernelspec": {
   "display_name": "Python 2",
   "language": "python",
   "name": "python2"
  },
  "language_info": {
   "codemirror_mode": {
    "name": "ipython",
    "version": 2
   },
   "file_extension": ".py",
   "mimetype": "text/x-python",
   "name": "python",
   "nbconvert_exporter": "python",
   "pygments_lexer": "ipython2",
   "version": "2.7.14"
  }
 },
 "nbformat": 4,
 "nbformat_minor": 2
}
